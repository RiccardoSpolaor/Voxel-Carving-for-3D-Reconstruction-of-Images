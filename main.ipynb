{
 "cells": [
  {
   "cell_type": "code",
   "execution_count": 3,
   "metadata": {},
   "outputs": [],
   "source": [
    "DATA_DIR = 'input'"
   ]
  },
  {
   "cell_type": "code",
   "execution_count": 4,
   "metadata": {},
   "outputs": [],
   "source": [
    "import os\n",
    "from scipy.io import loadmat\n",
    "\n",
    "# Load the camera calibration matrix data\n",
    "calib = loadmat(os.path.join(DATA_DIR, 'dino_Ps.mat'))\n"
   ]
  },
  {
   "cell_type": "code",
   "execution_count": 5,
   "metadata": {},
   "outputs": [],
   "source": [
    "import numpy as np\n",
    "\n",
    "matrices = calib['P'][0]"
   ]
  },
  {
   "cell_type": "code",
   "execution_count": 6,
   "metadata": {},
   "outputs": [],
   "source": [
    "import cv2 as cv\n",
    "\n",
    "# Read the images in the input folder\n",
    "IMAGES_DIR = os.path.join(DATA_DIR, 'images')\n",
    "\n",
    "images = []\n",
    "for file_name in os.listdir(IMAGES_DIR):\n",
    "    image = cv.imread(os.path.join(IMAGES_DIR, file_name))\n",
    "    images.append(image)"
   ]
  },
  {
   "cell_type": "code",
   "execution_count": 7,
   "metadata": {},
   "outputs": [],
   "source": [
    "# Apply triangulation to the points\n",
    "\n",
    "#images_3d = cv.triangulatePoints(np.array(images), matrices)"
   ]
  },
  {
   "cell_type": "code",
   "execution_count": 8,
   "metadata": {},
   "outputs": [
    {
     "data": {
      "application/vnd.jupyter.widget-view+json": {
       "model_id": "30c6800b58784f7eb386b0ae0c0a316f",
       "version_major": 2,
       "version_minor": 0
      },
      "text/plain": [
       "interactive(children=(IntSlider(value=0, description='index', max=36), Output()), _dom_classes=('widget-intera…"
      ]
     },
     "metadata": {},
     "output_type": "display_data"
    }
   ],
   "source": [
    "import ipywidgets as wg\n",
    "import PIL.Image\n",
    "\n",
    "def show_image_by_index(index: int) -> PIL.Image:\n",
    "    rgb_image = cv.cvtColor(images[index], cv.COLOR_BGR2RGB)\n",
    "    return PIL.Image.fromarray(rgb_image)\n",
    "\n",
    "wg.interact(\n",
    "    show_image_by_index,\n",
    "    index=wg.IntSlider(min=0, max=len(images)-1, step=1));"
   ]
  },
  {
   "cell_type": "code",
   "execution_count": 9,
   "metadata": {},
   "outputs": [],
   "source": [
    "# Crop Image black borders\n",
    "images = [img[5:, :-30] for img in images]"
   ]
  },
  {
   "cell_type": "code",
   "execution_count": 10,
   "metadata": {},
   "outputs": [
    {
     "data": {
      "application/vnd.jupyter.widget-view+json": {
       "model_id": "0c346f8f4bec49678ef1c71882950382",
       "version_major": 2,
       "version_minor": 0
      },
      "text/plain": [
       "interactive(children=(IntSlider(value=0, description='index', max=36), Output()), _dom_classes=('widget-intera…"
      ]
     },
     "metadata": {},
     "output_type": "display_data"
    }
   ],
   "source": [
    "import ipywidgets as wg\n",
    "import PIL.Image\n",
    "\n",
    "def show_image_by_index(index: int) -> PIL.Image:\n",
    "    rgb_image = cv.cvtColor(images[index], cv.COLOR_BGR2RGB)\n",
    "    return PIL.Image.fromarray(rgb_image)\n",
    "\n",
    "wg.interact(\n",
    "    show_image_by_index,\n",
    "    index=wg.IntSlider(min=0, max=len(images)-1, step=1));"
   ]
  },
  {
   "cell_type": "code",
   "execution_count": 11,
   "metadata": {},
   "outputs": [],
   "source": [
    "images_blur = [cv.GaussianBlur(image, (21, 21), 0) for image in images]"
   ]
  },
  {
   "cell_type": "code",
   "execution_count": 12,
   "metadata": {},
   "outputs": [
    {
     "data": {
      "application/vnd.jupyter.widget-view+json": {
       "model_id": "1943a9d7ef904eb193e40e8d8e991948",
       "version_major": 2,
       "version_minor": 0
      },
      "text/plain": [
       "interactive(children=(IntSlider(value=0, description='index', max=36), Output()), _dom_classes=('widget-intera…"
      ]
     },
     "metadata": {},
     "output_type": "display_data"
    }
   ],
   "source": [
    "# TODO: replicated cell code\n",
    "\n",
    "import ipywidgets as wg\n",
    "import PIL.Image\n",
    "\n",
    "def show_image_by_index_(index: int) -> PIL.Image:\n",
    "    return PIL.Image.fromarray(cv.cvtColor(images_blur[index], cv.COLOR_BGR2RGB))\n",
    "\n",
    "wg.interact(\n",
    "    show_image_by_index_,\n",
    "    index=wg.IntSlider(min=0, max=len(images_blur)-1, step=1));"
   ]
  },
  {
   "cell_type": "code",
   "execution_count": 13,
   "metadata": {},
   "outputs": [],
   "source": [
    "images_hsv = [cv.cvtColor(image, cv.COLOR_BGR2LAB) for image in images_blur]\n",
    "images_mask = [\n",
    "    cv.threshold(img[..., 2], 0, 255, cv.THRESH_BINARY + cv.THRESH_OTSU)[1]\n",
    "    for img in images_hsv]"
   ]
  },
  {
   "cell_type": "code",
   "execution_count": 14,
   "metadata": {},
   "outputs": [
    {
     "data": {
      "application/vnd.jupyter.widget-view+json": {
       "model_id": "2d0d149ea1f24f6c8311bb452055b84a",
       "version_major": 2,
       "version_minor": 0
      },
      "text/plain": [
       "interactive(children=(IntSlider(value=0, description='index', max=36), Output()), _dom_classes=('widget-intera…"
      ]
     },
     "metadata": {},
     "output_type": "display_data"
    }
   ],
   "source": [
    "# TODO: replicated cell code\n",
    "\n",
    "import ipywidgets as wg\n",
    "import PIL.Image\n",
    "\n",
    "def show_image_by_index_(index: int) -> PIL.Image:\n",
    "    return PIL.Image.fromarray(images_mask[index])\n",
    "\n",
    "wg.interact(\n",
    "    show_image_by_index_,\n",
    "    index=wg.IntSlider(min=0, max=len(images)-1, step=1));"
   ]
  },
  {
   "cell_type": "code",
   "execution_count": 15,
   "metadata": {},
   "outputs": [],
   "source": [
    "kernel = cv.getStructuringElement(cv.MORPH_ELLIPSE, (5, 5))\n",
    "closing = [cv.morphologyEx(img, cv.MORPH_CLOSE, kernel) for img in images_mask]"
   ]
  },
  {
   "cell_type": "code",
   "execution_count": 16,
   "metadata": {},
   "outputs": [
    {
     "data": {
      "application/vnd.jupyter.widget-view+json": {
       "model_id": "41fb97f6874348fa8a7d29148bd07e56",
       "version_major": 2,
       "version_minor": 0
      },
      "text/plain": [
       "interactive(children=(IntSlider(value=0, description='index', max=36), Output()), _dom_classes=('widget-intera…"
      ]
     },
     "metadata": {},
     "output_type": "display_data"
    }
   ],
   "source": [
    "# TODO: replicated cell code\n",
    "\n",
    "import ipywidgets as wg\n",
    "import PIL.Image\n",
    "\n",
    "def show_image_by_index_(index: int) -> PIL.Image:\n",
    "    return PIL.Image.fromarray(closing[index])\n",
    "\n",
    "wg.interact(\n",
    "    show_image_by_index_,\n",
    "    index=wg.IntSlider(min=0, max=len(images)-1, step=1));"
   ]
  },
  {
   "cell_type": "code",
   "execution_count": 17,
   "metadata": {},
   "outputs": [],
   "source": [
    "segmented_images = [cv.bitwise_and(img, img, mask=mask) for img, mask in zip(images, closing)]"
   ]
  },
  {
   "cell_type": "code",
   "execution_count": 18,
   "metadata": {},
   "outputs": [],
   "source": [
    "#segmented_images"
   ]
  },
  {
   "cell_type": "code",
   "execution_count": 19,
   "metadata": {},
   "outputs": [
    {
     "data": {
      "application/vnd.jupyter.widget-view+json": {
       "model_id": "9ec30c78d13e479085bdfd6ffa222200",
       "version_major": 2,
       "version_minor": 0
      },
      "text/plain": [
       "interactive(children=(IntSlider(value=0, description='index', max=36), Output()), _dom_classes=('widget-intera…"
      ]
     },
     "metadata": {},
     "output_type": "display_data"
    }
   ],
   "source": [
    "import ipywidgets as wg\n",
    "import PIL.Image\n",
    "\n",
    "def show_image_by_index_(index: int) -> PIL.Image:\n",
    "    return PIL.Image.fromarray(cv.cvtColor(segmented_images[index], cv.COLOR_BGR2RGB))\n",
    "\n",
    "wg.interact(\n",
    "    show_image_by_index_,\n",
    "    index=wg.IntSlider(min=0, max=len(images)-1, step=1));"
   ]
  },
  {
   "cell_type": "code",
   "execution_count": 20,
   "metadata": {},
   "outputs": [],
   "source": [
    "'''import open3d as o3d\n",
    "\n",
    "def carve_sides():\n",
    "\tprint(\"creating voxel space...\")\n",
    "\tvoxel_grid = o3d.geometry.VoxelGrid.create_dense(\n",
    "     \torigin=[-1,-1,-1],\n",
    "     \tcolor=[1,0,1],\n",
    "     \tvoxel_size=0.00325,\n",
    "     \twidth=2,\n",
    "     \theight=2,\n",
    "     \tdepth=2)\n",
    "\tprint(\"created voxel space!\")\n",
    "\t\n",
    "\tfile_num = 1\n",
    "\tfor img, params in zip(segmented_images, matrices):\n",
    "\t\tvoxel_grid.carve_silhouette(img, params)\n",
    "\t\tprint(file_num)\n",
    "\t\tfile_num = file_num + 1\n",
    "\t\t\n",
    "\to3d.visualization.draw_geometries([voxel_grid])\n",
    "#carve_sides('./temple/','./temple/temple_par.txt', './temple/temple_ang.txt')''';"
   ]
  },
  {
   "cell_type": "code",
   "execution_count": 21,
   "metadata": {},
   "outputs": [
    {
     "data": {
      "text/plain": [
       "array([[ 3.99235688e+00,  3.94176810e+01, -7.63289880e-01,\n",
       "         3.95917551e+00],\n",
       "       [-1.44302310e+01, -9.41441580e-01, -2.74509701e+01,\n",
       "        -1.44294334e+01],\n",
       "       [ 1.22492404e-02, -1.45746038e-04, -5.69307087e-04,\n",
       "         1.22493587e-02]])"
      ]
     },
     "execution_count": 21,
     "metadata": {},
     "output_type": "execute_result"
    }
   ],
   "source": [
    "matrices[0]"
   ]
  },
  {
   "cell_type": "code",
   "execution_count": 22,
   "metadata": {},
   "outputs": [],
   "source": [
    "'''\n",
    "import matplotlib.pyplot as plt\n",
    "\n",
    "# Define the 3D point in homogeneous coordinate in order to multiply with the PPM \n",
    "_3d_point_homogeneous = np.array([[0.], [0.], [0.], [1.]])\n",
    "\n",
    "# Multiply by the PPM obtaining the pixel in homogeneous coordinate\n",
    "_2d_point_homogeneous = np.matmul(matrices[0], _3d_point_homogeneous)\n",
    "\n",
    "# Divide by the third value to get the pixel coordinate\n",
    "_2d_point = _2d_point_homogeneous / _2d_point_homogeneous[-1, 0]\n",
    "\n",
    "print(\"2D point using PPM (Coordinates referred to the undistorted image): \", ( int(round(_2d_point[0,0])), int(round(_2d_point[1,0])) ))\n",
    "# Draw the point\n",
    "img2 = np.copy(segmented_images[0])\n",
    "cv.circle(img2, (_2d_point[0], _2d_point[1]), 100, (255, 0, 0), 20)\n",
    "\n",
    "# Crop away the black region obtained by undistorsion\n",
    "#img2 = img2[y:y+h_2, x:x+w_2]\n",
    "\n",
    "plt.figure(figsize=(10, 10))\n",
    "plt.imshow(img2)\n",
    "plt.show()''';"
   ]
  },
  {
   "cell_type": "code",
   "execution_count": 23,
   "metadata": {},
   "outputs": [],
   "source": [
    "imgH, imgW, __ = segmented_images[0].shape"
   ]
  },
  {
   "cell_type": "markdown",
   "metadata": {},
   "source": [
    "https://github.com/zinsmatt/SpaceCarving/blob/master/space_carving.py\n",
    "\n",
    "https://github.com/zinsmatt/SpaceCarving/issues/7"
   ]
  },
  {
   "cell_type": "code",
   "execution_count": 24,
   "metadata": {},
   "outputs": [],
   "source": [
    "'''#%%\n",
    "# create voxel grid\n",
    "s = 50 #120\n",
    "# x, y, z = np.mgrid[:s, :s, :s]\n",
    "pts = np.vstack((x.flatten(), y.flatten(), z.flatten())).astype(float)\n",
    "pts = pts.T\n",
    "nb_points_init = pts.shape[0]\n",
    "xmax, ymax, zmax = np.max(pts, axis=0)\n",
    "pts[:, 0] /= xmax\n",
    "pts[:, 1] /= ymax\n",
    "pts[:, 2] /= zmax\n",
    "center = pts.mean(axis=0)\n",
    "pts -= center\n",
    "pts /= 5\n",
    "pts[:, 2] -= 0.62\n",
    "pts = np.vstack((pts.T, np.ones((1, nb_points_init))))''';"
   ]
  },
  {
   "cell_type": "code",
   "execution_count": 25,
   "metadata": {},
   "outputs": [
    {
     "data": {
      "text/plain": [
       "(4, 125000)"
      ]
     },
     "execution_count": 25,
     "metadata": {},
     "output_type": "execute_result"
    }
   ],
   "source": [
    "#pts.shape"
   ]
  },
  {
   "cell_type": "code",
   "execution_count": 26,
   "metadata": {},
   "outputs": [],
   "source": [
    "'''print(np.unique(pts[0]))\n",
    "print(np.unique(pts[1]))\n",
    "print(np.unique(pts[2]))''';"
   ]
  },
  {
   "cell_type": "code",
   "execution_count": 27,
   "metadata": {},
   "outputs": [],
   "source": [
    "'''np.mgrid[:s, :s, :s]''';"
   ]
  },
  {
   "cell_type": "code",
   "execution_count": 28,
   "metadata": {},
   "outputs": [],
   "source": [
    "# Get the points of a voxel grid.\n",
    "\n",
    "# Set the number of points in each dimension of the grid.\n",
    "s = 120\n",
    "# Get a coordinate grid of dimension (s x s x s).\n",
    "x, y, z = np.meshgrid(np.arange(s), np.arange(s), np.arange(s))\n",
    "# Flatten the coordinate arrays.\n",
    "x, y, z = x.flatten(), y.flatten(), z.flatten()\n",
    "# Scale the coordinate points to hardcoded values in the 3D space.\n",
    "# The values are chosen such that the points of the grid enclose the dinosaur.\n",
    "x = -.05 + (x - x.min()) * (.05 - (-.05)) / (x.max() - x.min())\n",
    "y = -.1 + (y - y.min()) * (.04 - (-.1)) / (y.max() - y.min())\n",
    "z = -.75 + (z - z.min()) * (-.5 - (-.75)) / (z.max() - z.min())\n",
    "# Stack the coordinate arrays followed by a row of ones to get a matrix of\n",
    "# homogeneous coordinates.\n",
    "pts = np.vstack((x, y, z, np.ones(x.shape))).astype(float)"
   ]
  },
  {
   "cell_type": "code",
   "execution_count": 29,
   "metadata": {},
   "outputs": [
    {
     "data": {
      "text/plain": [
       "(4, 1728000)"
      ]
     },
     "execution_count": 29,
     "metadata": {},
     "output_type": "execute_result"
    }
   ],
   "source": [
    "pts.shape"
   ]
  },
  {
   "cell_type": "code",
   "execution_count": 37,
   "metadata": {},
   "outputs": [],
   "source": [
    "img_with_voxels = []\n",
    "\n",
    "for P, im in zip(matrices, closing):\n",
    "    im = im.copy()\n",
    "    uvs = P @ pts\n",
    "    uvs /= uvs[-1, :]\n",
    "    uvs = np.round(uvs).astype(int)\n",
    "    im = cv.cvtColor(im, cv.COLOR_GRAY2BGRA)\n",
    "    for uv in uvs.T:  # Iterate by column\n",
    "        im = cv.circle(im, (uv[0], uv[1]), radius=1, color=(0, 0, 255, 50), thickness=-1)\n",
    "    img_with_voxels.append(im)"
   ]
  },
  {
   "cell_type": "code",
   "execution_count": 38,
   "metadata": {},
   "outputs": [
    {
     "data": {
      "application/vnd.jupyter.widget-view+json": {
       "model_id": "5393d24bb1fc4adda4ea64a1e8b1fd9a",
       "version_major": 2,
       "version_minor": 0
      },
      "text/plain": [
       "interactive(children=(IntSlider(value=0, description='index', max=35), Output()), _dom_classes=('widget-intera…"
      ]
     },
     "metadata": {},
     "output_type": "display_data"
    }
   ],
   "source": [
    "import ipywidgets as wg\n",
    "import PIL.Image\n",
    "\n",
    "def show_image_by_index_(index: int) -> PIL.Image:\n",
    "    return PIL.Image.fromarray(cv.cvtColor(img_with_voxels[index], cv.COLOR_BGR2RGBA))\n",
    "\n",
    "wg.interact(\n",
    "    show_image_by_index_,\n",
    "    index=wg.IntSlider(min=0, max=len(img_with_voxels)-1, step=1));"
   ]
  },
  {
   "cell_type": "code",
   "execution_count": 40,
   "metadata": {},
   "outputs": [],
   "source": [
    "filled = []\n",
    "for P, im in zip(matrices, closing):\n",
    "    # Compute the pixel coordinates of the points\n",
    "    uvs = P @ pts\n",
    "    # Divide by the third value to get the pixel coordinate\n",
    "    uvs /= uvs[-1, :]\n",
    "    # Convert the points to integer\n",
    "    uvs = np.round(uvs).astype(int)\n",
    "    # \n",
    "    x_good = np.logical_and(uvs[0, :] >= 0, uvs[0, :] < imgW)\n",
    "    y_good = np.logical_and(uvs[1, :] >= 0, uvs[1, :] < imgH)\n",
    "    good = np.logical_and(x_good, y_good)\n",
    "    indices = np.where(good)[0]\n",
    "    fill = np.zeros(uvs.shape[1])\n",
    "    sub_uvs = uvs[:-1, indices]\n",
    "    res = im[sub_uvs[1, :], sub_uvs[0, :]]\n",
    "    fill[indices] = res \n",
    "\n",
    "    filled.append(fill)\n",
    "filled = np.vstack(filled)\n",
    "\n",
    "# the occupancy is computed as the number of camera in which the point \"seems\" not empty\n",
    "occupancy = np.sum(filled, axis=0)\n",
    "\n",
    "# Select occupied voxels\n",
    "pts = pts.T\n",
    "good_points = pts[occupancy > 4, :]"
   ]
  },
  {
   "cell_type": "code",
   "execution_count": 41,
   "metadata": {},
   "outputs": [
    {
     "data": {
      "text/plain": [
       "(86732, 4)"
      ]
     },
     "execution_count": 41,
     "metadata": {},
     "output_type": "execute_result"
    }
   ],
   "source": [
    "good_points = pts[occupancy > 8_000, :]\n",
    "good_points.shape"
   ]
  },
  {
   "cell_type": "code",
   "execution_count": 42,
   "metadata": {},
   "outputs": [],
   "source": [
    "img_with_3D = []\n",
    "\n",
    "for P, im in zip(matrices, closing):\n",
    "    im = np.zeros_like(im)\n",
    "    uvs = P @ good_points.T\n",
    "    uvs /= uvs[-1, :]\n",
    "    uvs = np.round(uvs).astype(int)\n",
    "    im = cv.cvtColor(im, cv.COLOR_GRAY2BGRA)\n",
    "    for uv in uvs.T:  # Iterate by column\n",
    "        im = cv.circle(im, (uv[0], uv[1]), radius=1, color=(0, 0, 255, 30), thickness=-1)\n",
    "    img_with_3D.append(im)"
   ]
  },
  {
   "cell_type": "code",
   "execution_count": 43,
   "metadata": {},
   "outputs": [
    {
     "data": {
      "application/vnd.jupyter.widget-view+json": {
       "model_id": "0c9a2658910849619be4cf57dbde9d82",
       "version_major": 2,
       "version_minor": 0
      },
      "text/plain": [
       "interactive(children=(IntSlider(value=0, description='index', max=35), Output()), _dom_classes=('widget-intera…"
      ]
     },
     "metadata": {},
     "output_type": "display_data"
    }
   ],
   "source": [
    "import ipywidgets as wg\n",
    "import PIL.Image\n",
    "\n",
    "def show_image_by_index_(index: int) -> PIL.Image:\n",
    "    return PIL.Image.fromarray(cv.cvtColor(img_with_3D[index], cv.COLOR_BGR2RGBA))\n",
    "\n",
    "wg.interact(\n",
    "    show_image_by_index_,\n",
    "    index=wg.IntSlider(min=0, max=len(img_with_3D)-1, step=1));"
   ]
  },
  {
   "cell_type": "code",
   "execution_count": 96,
   "metadata": {},
   "outputs": [],
   "source": [
    "# Get the s x s x s coordinates of the voxel grid. Map the coordinates\n",
    "# as the ones of paraview (x -> y; y -> z; z -> x).\n",
    "\n",
    "y = pts[:s*s:s, 0]\n",
    "z = pts[::s*s, 1]\n",
    "x = pts[:s, 2]"
   ]
  },
  {
   "cell_type": "code",
   "execution_count": 97,
   "metadata": {},
   "outputs": [
    {
     "name": "stdout",
     "output_type": "stream",
     "text": [
      "(120,) (120,) (120,)\n"
     ]
    }
   ],
   "source": [
    "print(x.shape, y.shape, z.shape)"
   ]
  },
  {
   "cell_type": "code",
   "execution_count": 99,
   "metadata": {},
   "outputs": [
    {
     "data": {
      "text/plain": [
       "1"
      ]
     },
     "execution_count": 99,
     "metadata": {},
     "output_type": "execute_result"
    },
    {
     "ename": "",
     "evalue": "",
     "output_type": "error",
     "traceback": [
      "\u001b[1;31mThe Kernel crashed while executing code in the the current cell or a previous cell. Please review the code in the cell(s) to identify a possible cause of the failure. Click <a href='https://aka.ms/vscodeJupyterKernelCrash'>here</a> for more info. View Jupyter <a href='command:jupyter.viewOutput'>log</a> for further details."
     ]
    }
   ],
   "source": [
    "# Save point cloud with occupancy scalar \n",
    "filename = \"shape.txt\"\n",
    "with open(filename, \"w\") as fout:\n",
    "    fout.write(\"x,y,z,occ\\n\")\n",
    "    for occ, p in zip(occupancy, pts[:, :3]):\n",
    "        fout.write(\",\".join(p.astype(str)) + \",\" + str(occ) + \"\\n\")\n",
    "\n",
    "# Save as rectilinear grid (this enables paraview to display its iso-volume as a mesh)\n",
    "import vtk\n",
    "\n",
    "xCoords = vtk.vtkFloatArray()\n",
    "#x = pts[::s*s, 0]\n",
    "#y = pts[:s*s:s, 1]\n",
    "#z = pts[:s, 2]\n",
    "for i in x:\n",
    "    xCoords.InsertNextValue(i)\n",
    "yCoords = vtk.vtkFloatArray()\n",
    "for i in y:\n",
    "    yCoords.InsertNextValue(i)\n",
    "zCoords = vtk.vtkFloatArray()\n",
    "for i in z:\n",
    "    zCoords.InsertNextValue(i)\n",
    "values = vtk.vtkFloatArray()\n",
    "for i in occupancy:\n",
    "    values.InsertNextValue(i)\n",
    "rgrid = vtk.vtkRectilinearGrid()\n",
    "rgrid.SetDimensions(len(x), len(y), len(z))\n",
    "rgrid.SetXCoordinates(xCoords)\n",
    "rgrid.SetYCoordinates(yCoords)\n",
    "rgrid.SetZCoordinates(zCoords)\n",
    "rgrid.GetPointData().SetScalars(values)\n",
    "\n",
    "writer = vtk.vtkXMLRectilinearGridWriter()\n",
    "writer.SetFileName(\"shape.vtr\")\n",
    "writer.SetInputData(rgrid)\n",
    "writer.Write()"
   ]
  }
 ],
 "metadata": {
  "kernelspec": {
   "display_name": "Python 3",
   "language": "python",
   "name": "python3"
  },
  "language_info": {
   "codemirror_mode": {
    "name": "ipython",
    "version": 3
   },
   "file_extension": ".py",
   "mimetype": "text/x-python",
   "name": "python",
   "nbconvert_exporter": "python",
   "pygments_lexer": "ipython3",
   "version": "3.10.0"
  },
  "orig_nbformat": 4
 },
 "nbformat": 4,
 "nbformat_minor": 2
}

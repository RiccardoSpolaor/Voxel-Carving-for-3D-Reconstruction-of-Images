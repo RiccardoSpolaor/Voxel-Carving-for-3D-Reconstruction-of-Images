{
 "cells": [
  {
   "cell_type": "code",
   "execution_count": 41,
   "metadata": {},
   "outputs": [],
   "source": [
    "DATA_DIR = 'input'"
   ]
  },
  {
   "cell_type": "code",
   "execution_count": 42,
   "metadata": {},
   "outputs": [],
   "source": [
    "import os\n",
    "from scipy.io import loadmat\n",
    "\n",
    "# Load the camera calibration matrix data\n",
    "calib = loadmat(os.path.join(DATA_DIR, 'dino_Ps.mat'))\n"
   ]
  },
  {
   "cell_type": "code",
   "execution_count": 43,
   "metadata": {},
   "outputs": [],
   "source": [
    "import numpy as np\n",
    "\n",
    "matrices = calib['P'][0]"
   ]
  },
  {
   "cell_type": "code",
   "execution_count": 44,
   "metadata": {},
   "outputs": [],
   "source": [
    "import cv2 as cv\n",
    "\n",
    "# Read the images in the input folder\n",
    "IMAGES_DIR = os.path.join(DATA_DIR, 'images')\n",
    "\n",
    "images = []\n",
    "for file_name in os.listdir(IMAGES_DIR):\n",
    "    image = cv.imread(os.path.join(IMAGES_DIR, file_name))\n",
    "    images.append(image)"
   ]
  },
  {
   "cell_type": "code",
   "execution_count": 45,
   "metadata": {},
   "outputs": [],
   "source": [
    "# Apply triangulation to the points\n",
    "\n",
    "#images_3d = cv.triangulatePoints(np.array(images), matrices)"
   ]
  },
  {
   "cell_type": "code",
   "execution_count": 46,
   "metadata": {},
   "outputs": [
    {
     "data": {
      "application/vnd.jupyter.widget-view+json": {
       "model_id": "3b58a281f0aa48c6801a59187f560973",
       "version_major": 2,
       "version_minor": 0
      },
      "text/plain": [
       "interactive(children=(IntSlider(value=0, description='index', max=36), Output()), _dom_classes=('widget-intera…"
      ]
     },
     "metadata": {},
     "output_type": "display_data"
    }
   ],
   "source": [
    "import ipywidgets as wg\n",
    "import PIL.Image\n",
    "\n",
    "def show_image_by_index(index: int) -> PIL.Image:\n",
    "    rgb_image = cv.cvtColor(images[index], cv.COLOR_BGR2RGB)\n",
    "    return PIL.Image.fromarray(rgb_image)\n",
    "\n",
    "wg.interact(\n",
    "    show_image_by_index,\n",
    "    index=wg.IntSlider(min=0, max=len(images)-1, step=1));"
   ]
  },
  {
   "cell_type": "code",
   "execution_count": 47,
   "metadata": {},
   "outputs": [],
   "source": [
    "# Crop Image black borders\n",
    "images = [img[5:, :-30] for img in images]"
   ]
  },
  {
   "cell_type": "code",
   "execution_count": 48,
   "metadata": {},
   "outputs": [
    {
     "data": {
      "application/vnd.jupyter.widget-view+json": {
       "model_id": "4258e3514d77426cb4f8bbaf4f04dc50",
       "version_major": 2,
       "version_minor": 0
      },
      "text/plain": [
       "interactive(children=(IntSlider(value=0, description='index', max=36), Output()), _dom_classes=('widget-intera…"
      ]
     },
     "metadata": {},
     "output_type": "display_data"
    }
   ],
   "source": [
    "import ipywidgets as wg\n",
    "import PIL.Image\n",
    "\n",
    "def show_image_by_index(index: int) -> PIL.Image:\n",
    "    rgb_image = cv.cvtColor(images[index], cv.COLOR_BGR2RGB)\n",
    "    return PIL.Image.fromarray(rgb_image)\n",
    "\n",
    "wg.interact(\n",
    "    show_image_by_index,\n",
    "    index=wg.IntSlider(min=0, max=len(images)-1, step=1));"
   ]
  },
  {
   "cell_type": "code",
   "execution_count": 49,
   "metadata": {},
   "outputs": [],
   "source": [
    "images_blur = [cv.GaussianBlur(image, (21, 21), 0) for image in images]"
   ]
  },
  {
   "cell_type": "code",
   "execution_count": 50,
   "metadata": {},
   "outputs": [
    {
     "data": {
      "application/vnd.jupyter.widget-view+json": {
       "model_id": "20033f3daf4f4f968d0af1961285d867",
       "version_major": 2,
       "version_minor": 0
      },
      "text/plain": [
       "interactive(children=(IntSlider(value=0, description='index', max=36), Output()), _dom_classes=('widget-intera…"
      ]
     },
     "metadata": {},
     "output_type": "display_data"
    }
   ],
   "source": [
    "# TODO: replicated cell code\n",
    "\n",
    "import ipywidgets as wg\n",
    "import PIL.Image\n",
    "\n",
    "def show_image_by_index_(index: int) -> PIL.Image:\n",
    "    return PIL.Image.fromarray(cv.cvtColor(images_blur[index], cv.COLOR_BGR2RGB))\n",
    "\n",
    "wg.interact(\n",
    "    show_image_by_index_,\n",
    "    index=wg.IntSlider(min=0, max=len(images_blur)-1, step=1));"
   ]
  },
  {
   "cell_type": "code",
   "execution_count": 51,
   "metadata": {},
   "outputs": [],
   "source": [
    "images_hsv = [cv.cvtColor(image, cv.COLOR_BGR2LAB) for image in images_blur]\n",
    "images_mask = [\n",
    "    cv.threshold(img[..., 2], 0, 255, cv.THRESH_BINARY + cv.THRESH_OTSU)[1]\n",
    "    for img in images_hsv]"
   ]
  },
  {
   "cell_type": "code",
   "execution_count": 52,
   "metadata": {},
   "outputs": [
    {
     "data": {
      "application/vnd.jupyter.widget-view+json": {
       "model_id": "779d2c81ef29407cba9cd1d581801928",
       "version_major": 2,
       "version_minor": 0
      },
      "text/plain": [
       "interactive(children=(IntSlider(value=0, description='index', max=36), Output()), _dom_classes=('widget-intera…"
      ]
     },
     "metadata": {},
     "output_type": "display_data"
    }
   ],
   "source": [
    "# TODO: replicated cell code\n",
    "\n",
    "import ipywidgets as wg\n",
    "import PIL.Image\n",
    "\n",
    "def show_image_by_index_(index: int) -> PIL.Image:\n",
    "    return PIL.Image.fromarray(images_mask[index])\n",
    "\n",
    "wg.interact(\n",
    "    show_image_by_index_,\n",
    "    index=wg.IntSlider(min=0, max=len(images)-1, step=1));"
   ]
  },
  {
   "cell_type": "code",
   "execution_count": 53,
   "metadata": {},
   "outputs": [],
   "source": [
    "kernel = cv.getStructuringElement(cv.MORPH_ELLIPSE, (5, 5))\n",
    "closing = [cv.morphologyEx(img, cv.MORPH_CLOSE, kernel) for img in images_mask]"
   ]
  },
  {
   "cell_type": "code",
   "execution_count": 54,
   "metadata": {},
   "outputs": [
    {
     "data": {
      "application/vnd.jupyter.widget-view+json": {
       "model_id": "34b2360506d8404cb23972ed28c06317",
       "version_major": 2,
       "version_minor": 0
      },
      "text/plain": [
       "interactive(children=(IntSlider(value=0, description='index', max=36), Output()), _dom_classes=('widget-intera…"
      ]
     },
     "metadata": {},
     "output_type": "display_data"
    }
   ],
   "source": [
    "# TODO: replicated cell code\n",
    "\n",
    "import ipywidgets as wg\n",
    "import PIL.Image\n",
    "\n",
    "def show_image_by_index_(index: int) -> PIL.Image:\n",
    "    return PIL.Image.fromarray(closing[index])\n",
    "\n",
    "wg.interact(\n",
    "    show_image_by_index_,\n",
    "    index=wg.IntSlider(min=0, max=len(images)-1, step=1));"
   ]
  },
  {
   "cell_type": "code",
   "execution_count": 55,
   "metadata": {},
   "outputs": [],
   "source": [
    "segmented_images = [cv.bitwise_and(img, img, mask=mask) for img, mask in zip(images, closing)]"
   ]
  },
  {
   "cell_type": "code",
   "execution_count": 56,
   "metadata": {},
   "outputs": [],
   "source": [
    "#segmented_images"
   ]
  },
  {
   "cell_type": "code",
   "execution_count": 57,
   "metadata": {},
   "outputs": [
    {
     "data": {
      "application/vnd.jupyter.widget-view+json": {
       "model_id": "a5ae614330ea490aacaa58c80e3fe7e0",
       "version_major": 2,
       "version_minor": 0
      },
      "text/plain": [
       "interactive(children=(IntSlider(value=0, description='index', max=36), Output()), _dom_classes=('widget-intera…"
      ]
     },
     "metadata": {},
     "output_type": "display_data"
    }
   ],
   "source": [
    "import ipywidgets as wg\n",
    "import PIL.Image\n",
    "\n",
    "def show_image_by_index_(index: int) -> PIL.Image:\n",
    "    return PIL.Image.fromarray(cv.cvtColor(segmented_images[index], cv.COLOR_BGR2RGB))\n",
    "\n",
    "wg.interact(\n",
    "    show_image_by_index_,\n",
    "    index=wg.IntSlider(min=0, max=len(images)-1, step=1));"
   ]
  },
  {
   "cell_type": "code",
   "execution_count": 58,
   "metadata": {},
   "outputs": [],
   "source": [
    "'''import open3d as o3d\n",
    "\n",
    "def carve_sides():\n",
    "\tprint(\"creating voxel space...\")\n",
    "\tvoxel_grid = o3d.geometry.VoxelGrid.create_dense(\n",
    "     \torigin=[-1,-1,-1],\n",
    "     \tcolor=[1,0,1],\n",
    "     \tvoxel_size=0.00325,\n",
    "     \twidth=2,\n",
    "     \theight=2,\n",
    "     \tdepth=2)\n",
    "\tprint(\"created voxel space!\")\n",
    "\t\n",
    "\tfile_num = 1\n",
    "\tfor img, params in zip(segmented_images, matrices):\n",
    "\t\tvoxel_grid.carve_silhouette(img, params)\n",
    "\t\tprint(file_num)\n",
    "\t\tfile_num = file_num + 1\n",
    "\t\t\n",
    "\to3d.visualization.draw_geometries([voxel_grid])\n",
    "#carve_sides('./temple/','./temple/temple_par.txt', './temple/temple_ang.txt')''';"
   ]
  },
  {
   "cell_type": "code",
   "execution_count": 59,
   "metadata": {},
   "outputs": [
    {
     "data": {
      "text/plain": [
       "array([[ 3.99235688e+00,  3.94176810e+01, -7.63289880e-01,\n",
       "         3.95917551e+00],\n",
       "       [-1.44302310e+01, -9.41441580e-01, -2.74509701e+01,\n",
       "        -1.44294334e+01],\n",
       "       [ 1.22492404e-02, -1.45746038e-04, -5.69307087e-04,\n",
       "         1.22493587e-02]])"
      ]
     },
     "execution_count": 59,
     "metadata": {},
     "output_type": "execute_result"
    }
   ],
   "source": [
    "matrices[0]"
   ]
  },
  {
   "cell_type": "code",
   "execution_count": 60,
   "metadata": {},
   "outputs": [],
   "source": [
    "'''\n",
    "import matplotlib.pyplot as plt\n",
    "\n",
    "# Define the 3D point in homogeneous coordinate in order to multiply with the PPM \n",
    "_3d_point_homogeneous = np.array([[0.], [0.], [0.], [1.]])\n",
    "\n",
    "# Multiply by the PPM obtaining the pixel in homogeneous coordinate\n",
    "_2d_point_homogeneous = np.matmul(matrices[0], _3d_point_homogeneous)\n",
    "\n",
    "# Divide by the third value to get the pixel coordinate\n",
    "_2d_point = _2d_point_homogeneous / _2d_point_homogeneous[-1, 0]\n",
    "\n",
    "print(\"2D point using PPM (Coordinates referred to the undistorted image): \", ( int(round(_2d_point[0,0])), int(round(_2d_point[1,0])) ))\n",
    "# Draw the point\n",
    "img2 = np.copy(segmented_images[0])\n",
    "cv.circle(img2, (_2d_point[0], _2d_point[1]), 100, (255, 0, 0), 20)\n",
    "\n",
    "# Crop away the black region obtained by undistorsion\n",
    "#img2 = img2[y:y+h_2, x:x+w_2]\n",
    "\n",
    "plt.figure(figsize=(10, 10))\n",
    "plt.imshow(img2)\n",
    "plt.show()''';"
   ]
  },
  {
   "cell_type": "code",
   "execution_count": 61,
   "metadata": {},
   "outputs": [],
   "source": [
    "imgH, imgW, __ = segmented_images[0].shape"
   ]
  },
  {
   "cell_type": "markdown",
   "metadata": {},
   "source": [
    "https://github.com/zinsmatt/SpaceCarving/blob/master/space_carving.py\n",
    "\n",
    "https://github.com/zinsmatt/SpaceCarving/issues/7"
   ]
  },
  {
   "cell_type": "code",
   "execution_count": 473,
   "metadata": {},
   "outputs": [],
   "source": [
    "#%%\n",
    "# create voxel grid\n",
    "s = 50 #120\n",
    "x, y, z = np.mgrid[:s, :s, :s]\n",
    "pts = np.vstack((x.flatten(), y.flatten(), z.flatten())).astype(float)\n",
    "pts = pts.T\n",
    "nb_points_init = pts.shape[0]\n",
    "xmax, ymax, zmax = np.max(pts, axis=0)\n",
    "pts[:, 0] /= xmax\n",
    "pts[:, 1] /= ymax\n",
    "pts[:, 2] /= zmax\n",
    "center = pts.mean(axis=0)\n",
    "pts -= center\n",
    "pts /= 5\n",
    "pts[:, 2] -= 0.62\n",
    "pts = np.vstack((pts.T, np.ones((1, nb_points_init))))"
   ]
  },
  {
   "cell_type": "code",
   "execution_count": 474,
   "metadata": {},
   "outputs": [
    {
     "data": {
      "text/plain": [
       "(4, 125000)"
      ]
     },
     "execution_count": 474,
     "metadata": {},
     "output_type": "execute_result"
    }
   ],
   "source": [
    "pts.shape"
   ]
  },
  {
   "cell_type": "code",
   "execution_count": 204,
   "metadata": {},
   "outputs": [
    {
     "name": "stdout",
     "output_type": "stream",
     "text": [
      "[-0.1        -0.09591837 -0.09183673 -0.0877551  -0.08367347 -0.07959184\n",
      " -0.0755102  -0.07142857 -0.06734694 -0.06326531 -0.05918367 -0.05510204\n",
      " -0.05102041 -0.04693878 -0.04285714 -0.03877551 -0.03469388 -0.03061224\n",
      " -0.02653061 -0.02244898 -0.01836735 -0.01428571 -0.01020408 -0.00612245\n",
      " -0.00204082  0.00204082  0.00612245  0.01020408  0.01428571  0.01836735\n",
      "  0.02244898  0.02653061  0.03061224  0.03469388  0.03877551  0.04285714\n",
      "  0.04693878  0.05102041  0.05510204  0.05918367  0.06326531  0.06734694\n",
      "  0.07142857  0.0755102   0.07959184  0.08367347  0.0877551   0.09183673\n",
      "  0.09591837  0.1       ]\n",
      "[-0.1        -0.09591837 -0.09183673 -0.0877551  -0.08367347 -0.07959184\n",
      " -0.0755102  -0.07142857 -0.06734694 -0.06326531 -0.05918367 -0.05510204\n",
      " -0.05102041 -0.04693878 -0.04285714 -0.03877551 -0.03469388 -0.03061224\n",
      " -0.02653061 -0.02244898 -0.01836735 -0.01428571 -0.01020408 -0.00612245\n",
      " -0.00204082  0.00204082  0.00612245  0.01020408  0.01428571  0.01836735\n",
      "  0.02244898  0.02653061  0.03061224  0.03469388  0.03877551  0.04285714\n",
      "  0.04693878  0.05102041  0.05510204  0.05918367  0.06326531  0.06734694\n",
      "  0.07142857  0.0755102   0.07959184  0.08367347  0.0877551   0.09183673\n",
      "  0.09591837  0.1       ]\n",
      "[-0.72       -0.71591837 -0.71183673 -0.7077551  -0.70367347 -0.69959184\n",
      " -0.6955102  -0.69142857 -0.68734694 -0.68326531 -0.67918367 -0.67510204\n",
      " -0.67102041 -0.66693878 -0.66285714 -0.65877551 -0.65469388 -0.65061224\n",
      " -0.64653061 -0.64244898 -0.63836735 -0.63428571 -0.63020408 -0.62612245\n",
      " -0.62204082 -0.61795918 -0.61387755 -0.60979592 -0.60571429 -0.60163265\n",
      " -0.59755102 -0.59346939 -0.58938776 -0.58530612 -0.58122449 -0.57714286\n",
      " -0.57306122 -0.56897959 -0.56489796 -0.56081633 -0.55673469 -0.55265306\n",
      " -0.54857143 -0.5444898  -0.54040816 -0.53632653 -0.5322449  -0.52816327\n",
      " -0.52408163 -0.52      ]\n"
     ]
    }
   ],
   "source": [
    "'''print(np.unique(pts[0]))\n",
    "print(np.unique(pts[1]))\n",
    "print(np.unique(pts[2]))''';"
   ]
  },
  {
   "cell_type": "code",
   "execution_count": 218,
   "metadata": {},
   "outputs": [
    {
     "data": {
      "text/plain": [
       "array([[[[ 0,  0,  0, ...,  0,  0,  0],\n",
       "         [ 0,  0,  0, ...,  0,  0,  0],\n",
       "         [ 0,  0,  0, ...,  0,  0,  0],\n",
       "         ...,\n",
       "         [ 0,  0,  0, ...,  0,  0,  0],\n",
       "         [ 0,  0,  0, ...,  0,  0,  0],\n",
       "         [ 0,  0,  0, ...,  0,  0,  0]],\n",
       "\n",
       "        [[ 1,  1,  1, ...,  1,  1,  1],\n",
       "         [ 1,  1,  1, ...,  1,  1,  1],\n",
       "         [ 1,  1,  1, ...,  1,  1,  1],\n",
       "         ...,\n",
       "         [ 1,  1,  1, ...,  1,  1,  1],\n",
       "         [ 1,  1,  1, ...,  1,  1,  1],\n",
       "         [ 1,  1,  1, ...,  1,  1,  1]],\n",
       "\n",
       "        [[ 2,  2,  2, ...,  2,  2,  2],\n",
       "         [ 2,  2,  2, ...,  2,  2,  2],\n",
       "         [ 2,  2,  2, ...,  2,  2,  2],\n",
       "         ...,\n",
       "         [ 2,  2,  2, ...,  2,  2,  2],\n",
       "         [ 2,  2,  2, ...,  2,  2,  2],\n",
       "         [ 2,  2,  2, ...,  2,  2,  2]],\n",
       "\n",
       "        ...,\n",
       "\n",
       "        [[47, 47, 47, ..., 47, 47, 47],\n",
       "         [47, 47, 47, ..., 47, 47, 47],\n",
       "         [47, 47, 47, ..., 47, 47, 47],\n",
       "         ...,\n",
       "         [47, 47, 47, ..., 47, 47, 47],\n",
       "         [47, 47, 47, ..., 47, 47, 47],\n",
       "         [47, 47, 47, ..., 47, 47, 47]],\n",
       "\n",
       "        [[48, 48, 48, ..., 48, 48, 48],\n",
       "         [48, 48, 48, ..., 48, 48, 48],\n",
       "         [48, 48, 48, ..., 48, 48, 48],\n",
       "         ...,\n",
       "         [48, 48, 48, ..., 48, 48, 48],\n",
       "         [48, 48, 48, ..., 48, 48, 48],\n",
       "         [48, 48, 48, ..., 48, 48, 48]],\n",
       "\n",
       "        [[49, 49, 49, ..., 49, 49, 49],\n",
       "         [49, 49, 49, ..., 49, 49, 49],\n",
       "         [49, 49, 49, ..., 49, 49, 49],\n",
       "         ...,\n",
       "         [49, 49, 49, ..., 49, 49, 49],\n",
       "         [49, 49, 49, ..., 49, 49, 49],\n",
       "         [49, 49, 49, ..., 49, 49, 49]]],\n",
       "\n",
       "\n",
       "       [[[ 0,  0,  0, ...,  0,  0,  0],\n",
       "         [ 1,  1,  1, ...,  1,  1,  1],\n",
       "         [ 2,  2,  2, ...,  2,  2,  2],\n",
       "         ...,\n",
       "         [47, 47, 47, ..., 47, 47, 47],\n",
       "         [48, 48, 48, ..., 48, 48, 48],\n",
       "         [49, 49, 49, ..., 49, 49, 49]],\n",
       "\n",
       "        [[ 0,  0,  0, ...,  0,  0,  0],\n",
       "         [ 1,  1,  1, ...,  1,  1,  1],\n",
       "         [ 2,  2,  2, ...,  2,  2,  2],\n",
       "         ...,\n",
       "         [47, 47, 47, ..., 47, 47, 47],\n",
       "         [48, 48, 48, ..., 48, 48, 48],\n",
       "         [49, 49, 49, ..., 49, 49, 49]],\n",
       "\n",
       "        [[ 0,  0,  0, ...,  0,  0,  0],\n",
       "         [ 1,  1,  1, ...,  1,  1,  1],\n",
       "         [ 2,  2,  2, ...,  2,  2,  2],\n",
       "         ...,\n",
       "         [47, 47, 47, ..., 47, 47, 47],\n",
       "         [48, 48, 48, ..., 48, 48, 48],\n",
       "         [49, 49, 49, ..., 49, 49, 49]],\n",
       "\n",
       "        ...,\n",
       "\n",
       "        [[ 0,  0,  0, ...,  0,  0,  0],\n",
       "         [ 1,  1,  1, ...,  1,  1,  1],\n",
       "         [ 2,  2,  2, ...,  2,  2,  2],\n",
       "         ...,\n",
       "         [47, 47, 47, ..., 47, 47, 47],\n",
       "         [48, 48, 48, ..., 48, 48, 48],\n",
       "         [49, 49, 49, ..., 49, 49, 49]],\n",
       "\n",
       "        [[ 0,  0,  0, ...,  0,  0,  0],\n",
       "         [ 1,  1,  1, ...,  1,  1,  1],\n",
       "         [ 2,  2,  2, ...,  2,  2,  2],\n",
       "         ...,\n",
       "         [47, 47, 47, ..., 47, 47, 47],\n",
       "         [48, 48, 48, ..., 48, 48, 48],\n",
       "         [49, 49, 49, ..., 49, 49, 49]],\n",
       "\n",
       "        [[ 0,  0,  0, ...,  0,  0,  0],\n",
       "         [ 1,  1,  1, ...,  1,  1,  1],\n",
       "         [ 2,  2,  2, ...,  2,  2,  2],\n",
       "         ...,\n",
       "         [47, 47, 47, ..., 47, 47, 47],\n",
       "         [48, 48, 48, ..., 48, 48, 48],\n",
       "         [49, 49, 49, ..., 49, 49, 49]]],\n",
       "\n",
       "\n",
       "       [[[ 0,  1,  2, ..., 47, 48, 49],\n",
       "         [ 0,  1,  2, ..., 47, 48, 49],\n",
       "         [ 0,  1,  2, ..., 47, 48, 49],\n",
       "         ...,\n",
       "         [ 0,  1,  2, ..., 47, 48, 49],\n",
       "         [ 0,  1,  2, ..., 47, 48, 49],\n",
       "         [ 0,  1,  2, ..., 47, 48, 49]],\n",
       "\n",
       "        [[ 0,  1,  2, ..., 47, 48, 49],\n",
       "         [ 0,  1,  2, ..., 47, 48, 49],\n",
       "         [ 0,  1,  2, ..., 47, 48, 49],\n",
       "         ...,\n",
       "         [ 0,  1,  2, ..., 47, 48, 49],\n",
       "         [ 0,  1,  2, ..., 47, 48, 49],\n",
       "         [ 0,  1,  2, ..., 47, 48, 49]],\n",
       "\n",
       "        [[ 0,  1,  2, ..., 47, 48, 49],\n",
       "         [ 0,  1,  2, ..., 47, 48, 49],\n",
       "         [ 0,  1,  2, ..., 47, 48, 49],\n",
       "         ...,\n",
       "         [ 0,  1,  2, ..., 47, 48, 49],\n",
       "         [ 0,  1,  2, ..., 47, 48, 49],\n",
       "         [ 0,  1,  2, ..., 47, 48, 49]],\n",
       "\n",
       "        ...,\n",
       "\n",
       "        [[ 0,  1,  2, ..., 47, 48, 49],\n",
       "         [ 0,  1,  2, ..., 47, 48, 49],\n",
       "         [ 0,  1,  2, ..., 47, 48, 49],\n",
       "         ...,\n",
       "         [ 0,  1,  2, ..., 47, 48, 49],\n",
       "         [ 0,  1,  2, ..., 47, 48, 49],\n",
       "         [ 0,  1,  2, ..., 47, 48, 49]],\n",
       "\n",
       "        [[ 0,  1,  2, ..., 47, 48, 49],\n",
       "         [ 0,  1,  2, ..., 47, 48, 49],\n",
       "         [ 0,  1,  2, ..., 47, 48, 49],\n",
       "         ...,\n",
       "         [ 0,  1,  2, ..., 47, 48, 49],\n",
       "         [ 0,  1,  2, ..., 47, 48, 49],\n",
       "         [ 0,  1,  2, ..., 47, 48, 49]],\n",
       "\n",
       "        [[ 0,  1,  2, ..., 47, 48, 49],\n",
       "         [ 0,  1,  2, ..., 47, 48, 49],\n",
       "         [ 0,  1,  2, ..., 47, 48, 49],\n",
       "         ...,\n",
       "         [ 0,  1,  2, ..., 47, 48, 49],\n",
       "         [ 0,  1,  2, ..., 47, 48, 49],\n",
       "         [ 0,  1,  2, ..., 47, 48, 49]]]])"
      ]
     },
     "execution_count": 218,
     "metadata": {},
     "output_type": "execute_result"
    }
   ],
   "source": [
    "'''np.mgrid[:s, :s, :s]''';"
   ]
  },
  {
   "cell_type": "code",
   "execution_count": 535,
   "metadata": {},
   "outputs": [],
   "source": [
    "#%%\n",
    "# create voxel grid\n",
    "s = 120\n",
    "#x, y, z = np.meshgrid(np.linspace(-.1, .1, s), np.linspace(-.1, .1, s), np.linspace(-.8, -.5, s))\n",
    "x, y, z = np.meshgrid(np.arange(s), np.arange(s), np.arange(s))\n",
    "x, y, z = x.flatten(), y.flatten(), z.flatten()\n",
    "x = -.05 + (x - x.min()) * (.05 - (-.05)) / (x.max() - x.min())\n",
    "y = -.1 + (y - y.min()) * (.04 - (-.1)) / (y.max() - y.min())\n",
    "z = -.75 + (z - z.min()) * (-.5 - (-.75)) / (z.max() - z.min())\n",
    "#print(x.shape, y.shape, z.shape)\n",
    "pts = np.vstack((x, y, z, np.ones(x.shape))).astype(float)"
   ]
  },
  {
   "cell_type": "code",
   "execution_count": 536,
   "metadata": {},
   "outputs": [
    {
     "data": {
      "text/plain": [
       "(4, 1728000)"
      ]
     },
     "execution_count": 536,
     "metadata": {},
     "output_type": "execute_result"
    }
   ],
   "source": [
    "pts.shape"
   ]
  },
  {
   "cell_type": "code",
   "execution_count": 537,
   "metadata": {},
   "outputs": [],
   "source": [
    "'''print(np.unique(pts[0]))\n",
    "print(np.unique(pts[1]))\n",
    "print(np.unique(pts[2]))''';"
   ]
  },
  {
   "cell_type": "code",
   "execution_count": 538,
   "metadata": {},
   "outputs": [],
   "source": [
    "'''res = 50\n",
    "\n",
    "xAxis = np.linspace(-180, 90, res)\n",
    "yAxis = np.linspace(-80, 70, res)\n",
    "zAxis = np.linspace(-20, 460, res)\n",
    "\n",
    "pts = np.vstack((xAxis.flatten(), yAxis.flatten(), zAxis.flatten())).astype(float)\n",
    "pts = pts.T\n",
    "nb_points_init = pts.shape[0]\n",
    "\n",
    "pts = np.vstack((pts.T, np.ones((1, nb_points_init))))''';"
   ]
  },
  {
   "cell_type": "code",
   "execution_count": 539,
   "metadata": {},
   "outputs": [],
   "source": [
    "#pts"
   ]
  },
  {
   "cell_type": "code",
   "execution_count": 540,
   "metadata": {},
   "outputs": [],
   "source": [
    "#closing[0].shape"
   ]
  },
  {
   "cell_type": "code",
   "execution_count": 541,
   "metadata": {},
   "outputs": [],
   "source": [
    "'''prova = (matrices[0] @ pts)\n",
    "prova /= prova[-1, :]''';"
   ]
  },
  {
   "cell_type": "code",
   "execution_count": 542,
   "metadata": {},
   "outputs": [],
   "source": [
    "#prova = np.round(prova).astype(int)"
   ]
  },
  {
   "cell_type": "code",
   "execution_count": 543,
   "metadata": {},
   "outputs": [],
   "source": [
    "#prova"
   ]
  },
  {
   "cell_type": "code",
   "execution_count": 544,
   "metadata": {},
   "outputs": [],
   "source": [
    "img_with_voxels = []\n",
    "\n",
    "for P, im in zip(matrices, closing):\n",
    "    im = im.copy()\n",
    "    uvs = P @ pts\n",
    "    uvs /= uvs[-1, :]\n",
    "    uvs = np.round(uvs).astype(int)\n",
    "    im = cv.cvtColor(im, cv.COLOR_GRAY2BGRA)\n",
    "    for uv in uvs.T:  # Iterate by column\n",
    "        im = cv.circle(im, (uv[0], uv[1]), radius=1, color=(0, 0, 255, 50), thickness=-1)\n",
    "    img_with_voxels.append(im)"
   ]
  },
  {
   "cell_type": "code",
   "execution_count": 545,
   "metadata": {},
   "outputs": [
    {
     "data": {
      "application/vnd.jupyter.widget-view+json": {
       "model_id": "29cd2014528b407cb7e743722e63ec7a",
       "version_major": 2,
       "version_minor": 0
      },
      "text/plain": [
       "interactive(children=(IntSlider(value=0, description='index', max=35), Output()), _dom_classes=('widget-intera…"
      ]
     },
     "metadata": {},
     "output_type": "display_data"
    }
   ],
   "source": [
    "import ipywidgets as wg\n",
    "import PIL.Image\n",
    "\n",
    "def show_image_by_index_(index: int) -> PIL.Image:\n",
    "    return PIL.Image.fromarray(cv.cvtColor(img_with_voxels[index], cv.COLOR_BGR2RGBA))\n",
    "\n",
    "wg.interact(\n",
    "    show_image_by_index_,\n",
    "    index=wg.IntSlider(min=0, max=len(img_with_voxels)-1, step=1));"
   ]
  },
  {
   "cell_type": "code",
   "execution_count": 546,
   "metadata": {},
   "outputs": [
    {
     "data": {
      "text/plain": [
       "array([-116.99115155, -116.6973345 , -116.40340866, ...,  607.08516581,\n",
       "        607.56171242,  608.03845555])"
      ]
     },
     "execution_count": 546,
     "metadata": {},
     "output_type": "execute_result"
    }
   ],
   "source": [
    "a = P @ pts\n",
    "a /= a[-1, :]\n",
    "np.unique(a)"
   ]
  },
  {
   "cell_type": "code",
   "execution_count": 547,
   "metadata": {},
   "outputs": [],
   "source": [
    "filled = []\n",
    "for P, im in zip(matrices, closing):\n",
    "    # Compute the pixel coordinates of the points\n",
    "    uvs = P @ pts\n",
    "    # Divide by the third value to get the pixel coordinate\n",
    "    uvs /= uvs[-1, :]\n",
    "    # Convert the points to integer\n",
    "    uvs = np.round(uvs).astype(int)\n",
    "    # \n",
    "    x_good = np.logical_and(uvs[0, :] >= 0, uvs[0, :] < imgW)\n",
    "    y_good = np.logical_and(uvs[1, :] >= 0, uvs[1, :] < imgH)\n",
    "    good = np.logical_and(x_good, y_good)\n",
    "    indices = np.where(good)[0]\n",
    "    fill = np.zeros(uvs.shape[1])\n",
    "    sub_uvs = uvs[:-1, indices]\n",
    "    res = im[sub_uvs[1, :], sub_uvs[0, :]]\n",
    "    fill[indices] = res \n",
    "\n",
    "    filled.append(fill)\n",
    "filled = np.vstack(filled)\n",
    "\n",
    "# the occupancy is computed as the number of camera in which the point \"seems\" not empty\n",
    "occupancy = np.sum(filled, axis=0)\n",
    "\n",
    "# Select occupied voxels\n",
    "pts = pts.T\n",
    "good_points = pts[occupancy > 4, :]"
   ]
  },
  {
   "cell_type": "code",
   "execution_count": 590,
   "metadata": {},
   "outputs": [
    {
     "data": {
      "text/plain": [
       "(86732, 4)"
      ]
     },
     "execution_count": 590,
     "metadata": {},
     "output_type": "execute_result"
    }
   ],
   "source": [
    "good_points = pts[occupancy > 8_000, :]\n",
    "good_points.shape"
   ]
  },
  {
   "cell_type": "code",
   "execution_count": 591,
   "metadata": {},
   "outputs": [],
   "source": [
    "img_with_3D = []\n",
    "\n",
    "for P, im in zip(matrices, closing):\n",
    "    im = np.zeros_like(im)\n",
    "    uvs = P @ good_points.T\n",
    "    uvs /= uvs[-1, :]\n",
    "    uvs = np.round(uvs).astype(int)\n",
    "    im = cv.cvtColor(im, cv.COLOR_GRAY2BGRA)\n",
    "    for uv in uvs.T:  # Iterate by column\n",
    "        im = cv.circle(im, (uv[0], uv[1]), radius=1, color=(0, 0, 255, 30), thickness=-1)\n",
    "    img_with_3D.append(im)"
   ]
  },
  {
   "cell_type": "code",
   "execution_count": 592,
   "metadata": {},
   "outputs": [
    {
     "data": {
      "application/vnd.jupyter.widget-view+json": {
       "model_id": "7021210613914f7897a8f2e0594c3358",
       "version_major": 2,
       "version_minor": 0
      },
      "text/plain": [
       "interactive(children=(IntSlider(value=0, description='index', max=35), Output()), _dom_classes=('widget-intera…"
      ]
     },
     "metadata": {},
     "output_type": "display_data"
    }
   ],
   "source": [
    "import ipywidgets as wg\n",
    "import PIL.Image\n",
    "\n",
    "def show_image_by_index_(index: int) -> PIL.Image:\n",
    "    return PIL.Image.fromarray(cv.cvtColor(img_with_3D[index], cv.COLOR_BGR2RGBA))\n",
    "\n",
    "wg.interact(\n",
    "    show_image_by_index_,\n",
    "    index=wg.IntSlider(min=0, max=len(img_with_3D)-1, step=1));"
   ]
  },
  {
   "cell_type": "code",
   "execution_count": 553,
   "metadata": {},
   "outputs": [
    {
     "data": {
      "text/plain": [
       "(1728000, 4)"
      ]
     },
     "execution_count": 553,
     "metadata": {},
     "output_type": "execute_result"
    }
   ],
   "source": [
    "#pts.shape"
   ]
  },
  {
   "cell_type": "code",
   "execution_count": 552,
   "metadata": {},
   "outputs": [
    {
     "data": {
      "text/plain": [
       "(1669801, 4)"
      ]
     },
     "execution_count": 552,
     "metadata": {},
     "output_type": "execute_result"
    }
   ],
   "source": [
    "#good_points.shape"
   ]
  },
  {
   "cell_type": "code",
   "execution_count": 548,
   "metadata": {},
   "outputs": [
    {
     "data": {
      "text/plain": [
       "1"
      ]
     },
     "execution_count": 548,
     "metadata": {},
     "output_type": "execute_result"
    }
   ],
   "source": [
    "#%% save point cloud with occupancy scalar \n",
    "filename = \"shape.txt\"\n",
    "with open(filename, \"w\") as fout:\n",
    "    fout.write(\"x,y,z,occ\\n\")\n",
    "    for occ, p in zip(occupancy, pts[:, :3]):\n",
    "        fout.write(\",\".join(p.astype(str)) + \",\" + str(occ) + \"\\n\")\n",
    "\n",
    "#%% save as rectilinear grid (this enables paraview to display its iso-volume as a mesh)\n",
    "import vtk\n",
    "\n",
    "xCoords = vtk.vtkFloatArray()\n",
    "x = pts[::s*s, 0]\n",
    "y = pts[:s*s:s, 1]\n",
    "z = pts[:s, 2]\n",
    "for i in x:\n",
    "    xCoords.InsertNextValue(i)\n",
    "yCoords = vtk.vtkFloatArray()\n",
    "for i in y:\n",
    "    yCoords.InsertNextValue(i)\n",
    "zCoords = vtk.vtkFloatArray()\n",
    "for i in z:\n",
    "    zCoords.InsertNextValue(i)\n",
    "values = vtk.vtkFloatArray()\n",
    "for i in occupancy:\n",
    "    values.InsertNextValue(i)\n",
    "rgrid = vtk.vtkRectilinearGrid()\n",
    "rgrid.SetDimensions(len(x), len(y), len(z))\n",
    "rgrid.SetXCoordinates(xCoords)\n",
    "rgrid.SetYCoordinates(yCoords)\n",
    "rgrid.SetZCoordinates(zCoords)\n",
    "rgrid.GetPointData().SetScalars(values)\n",
    "\n",
    "writer = vtk.vtkXMLRectilinearGridWriter()\n",
    "writer.SetFileName(\"shape.vtr\")\n",
    "writer.SetInputData(rgrid)\n",
    "writer.Write()"
   ]
  },
  {
   "cell_type": "code",
   "execution_count": null,
   "metadata": {},
   "outputs": [],
   "source": []
  },
  {
   "cell_type": "code",
   "execution_count": null,
   "metadata": {},
   "outputs": [],
   "source": []
  },
  {
   "cell_type": "code",
   "execution_count": null,
   "metadata": {},
   "outputs": [],
   "source": []
  },
  {
   "cell_type": "code",
   "execution_count": null,
   "metadata": {},
   "outputs": [],
   "source": []
  },
  {
   "cell_type": "code",
   "execution_count": null,
   "metadata": {},
   "outputs": [],
   "source": []
  },
  {
   "cell_type": "code",
   "execution_count": null,
   "metadata": {},
   "outputs": [],
   "source": []
  },
  {
   "cell_type": "code",
   "execution_count": null,
   "metadata": {},
   "outputs": [],
   "source": []
  },
  {
   "cell_type": "code",
   "execution_count": null,
   "metadata": {},
   "outputs": [],
   "source": []
  },
  {
   "cell_type": "code",
   "execution_count": null,
   "metadata": {},
   "outputs": [],
   "source": []
  },
  {
   "cell_type": "code",
   "execution_count": null,
   "metadata": {},
   "outputs": [],
   "source": []
  },
  {
   "cell_type": "code",
   "execution_count": null,
   "metadata": {},
   "outputs": [],
   "source": []
  },
  {
   "cell_type": "code",
   "execution_count": null,
   "metadata": {},
   "outputs": [],
   "source": []
  },
  {
   "cell_type": "code",
   "execution_count": null,
   "metadata": {},
   "outputs": [],
   "source": []
  },
  {
   "cell_type": "code",
   "execution_count": null,
   "metadata": {},
   "outputs": [],
   "source": []
  },
  {
   "cell_type": "code",
   "execution_count": null,
   "metadata": {},
   "outputs": [],
   "source": []
  },
  {
   "cell_type": "code",
   "execution_count": null,
   "metadata": {},
   "outputs": [],
   "source": []
  },
  {
   "cell_type": "code",
   "execution_count": null,
   "metadata": {},
   "outputs": [],
   "source": []
  },
  {
   "cell_type": "code",
   "execution_count": null,
   "metadata": {},
   "outputs": [],
   "source": []
  },
  {
   "cell_type": "code",
   "execution_count": null,
   "metadata": {},
   "outputs": [],
   "source": []
  },
  {
   "cell_type": "code",
   "execution_count": null,
   "metadata": {},
   "outputs": [],
   "source": []
  },
  {
   "cell_type": "code",
   "execution_count": null,
   "metadata": {},
   "outputs": [],
   "source": []
  },
  {
   "cell_type": "code",
   "execution_count": null,
   "metadata": {},
   "outputs": [],
   "source": []
  },
  {
   "cell_type": "code",
   "execution_count": null,
   "metadata": {},
   "outputs": [],
   "source": []
  },
  {
   "cell_type": "code",
   "execution_count": null,
   "metadata": {},
   "outputs": [],
   "source": []
  },
  {
   "cell_type": "code",
   "execution_count": 7,
   "metadata": {},
   "outputs": [],
   "source": [
    "from typing import List\n",
    "from sklearn.mixture import GaussianMixture\n",
    "\n",
    "def get_gaussian_mixture_segmented_image(\n",
    "    image: np.ndarray,\n",
    "    components: int = 2,\n",
    "    seed: int = 42\n",
    "    ) -> np.ndarray:\n",
    "    \"\"\"\n",
    "    Function that applies the Gaussian Mixture algorithm to a given image in order to quantize the main colours and\n",
    "    segment the image accordingly.\n",
    "\n",
    "    It returns a grayscale segmented version of the image where the regions of the different colours are line-spaced\n",
    "    with values between 0 and 255.\n",
    "\n",
    "    Parameters\n",
    "    ----------\n",
    "    image: ndarray\n",
    "        The colour image to segment\n",
    "    components: int, optional\n",
    "        The number of components to find. It corresponds to the number of main region of colours that will be found\n",
    "        (default: 3)\n",
    "    seed: int, optional\n",
    "        The seed to set for the random number generator of the algorithm (default: 42)\n",
    "\n",
    "    Returns\n",
    "    -------\n",
    "    segmented_image: ndarray\n",
    "        The segmented grayscale version of `image`, where the region of different colours are line-spaced with values\n",
    "        between 0 and 255\n",
    "    \"\"\"\n",
    "    # Get the main channels and reshape the image\n",
    "    img_r = image.reshape(-1, 3)\n",
    "\n",
    "    # Get the Gaussian Mixture model and fit it on the image\n",
    "    gm_model = GaussianMixture(n_components=components, covariance_type='full', random_state=seed).fit(img_r)\n",
    "\n",
    "    # Predict the main colours of the image through the model\n",
    "    gmm_labels = gm_model.predict(img_r)\n",
    "\n",
    "    # Line-space the values of the labels between 0 and 255 for clear distinction\n",
    "    labels = gmm_labels.reshape(image.shape[0], image.shape[1])\n",
    "    labels_map = list(np.linspace(0, 255, num=components, dtype=np.uint8))\n",
    "    new_labels = np.copy(labels)\n",
    "    for i, l in enumerate(np.unique(labels)):\n",
    "        new_labels[labels == l] = labels_map[i]\n",
    "\n",
    "    # Get an image segmented according to the Gaussian Mixture model\n",
    "    segmented_image = new_labels.reshape(image.shape[0], image.shape[1])\n",
    "    return segmented_image.astype(np.uint8)"
   ]
  },
  {
   "cell_type": "code",
   "execution_count": 8,
   "metadata": {},
   "outputs": [
    {
     "ename": "KeyboardInterrupt",
     "evalue": "",
     "output_type": "error",
     "traceback": [
      "\u001b[1;31m---------------------------------------------------------------------------\u001b[0m",
      "\u001b[1;31mKeyboardInterrupt\u001b[0m                         Traceback (most recent call last)",
      "File \u001b[1;32m<__array_function__ internals>:177\u001b[0m, in \u001b[0;36mwhere\u001b[1;34m(*args, **kwargs)\u001b[0m\n",
      "\u001b[1;31mKeyboardInterrupt\u001b[0m: "
     ]
    },
    {
     "name": "stderr",
     "output_type": "stream",
     "text": [
      "Exception ignored in: 'sklearn.cluster._k_means_common._relocate_empty_clusters_dense'\n",
      "Traceback (most recent call last):\n",
      "  File \"<__array_function__ internals>\", line 177, in where\n",
      "KeyboardInterrupt: \n"
     ]
    }
   ],
   "source": [
    "images_segmented = [get_gaussian_mixture_segmented_image(images[i]) for i in range(len(images))]"
   ]
  },
  {
   "cell_type": "code",
   "execution_count": 1,
   "metadata": {},
   "outputs": [
    {
     "ename": "NameError",
     "evalue": "name 'images_segmented' is not defined",
     "output_type": "error",
     "traceback": [
      "\u001b[1;31m---------------------------------------------------------------------------\u001b[0m",
      "\u001b[1;31mNameError\u001b[0m                                 Traceback (most recent call last)",
      "\u001b[1;32mc:\\Users\\riccardo\\Desktop\\3D-reconstruction\\main.ipynb Cell 10\u001b[0m in \u001b[0;36m3\n\u001b[0;32m      <a href='vscode-notebook-cell:/c%3A/Users/riccardo/Desktop/3D-reconstruction/main.ipynb#X21sZmlsZQ%3D%3D?line=0'>1</a>\u001b[0m \u001b[39m# Show image\u001b[39;00m\n\u001b[0;32m      <a href='vscode-notebook-cell:/c%3A/Users/riccardo/Desktop/3D-reconstruction/main.ipynb#X21sZmlsZQ%3D%3D?line=1'>2</a>\u001b[0m \u001b[39mimport\u001b[39;00m \u001b[39mmatplotlib\u001b[39;00m\u001b[39m.\u001b[39;00m\u001b[39mpyplot\u001b[39;00m \u001b[39mas\u001b[39;00m \u001b[39mplt\u001b[39;00m\n\u001b[1;32m----> <a href='vscode-notebook-cell:/c%3A/Users/riccardo/Desktop/3D-reconstruction/main.ipynb#X21sZmlsZQ%3D%3D?line=2'>3</a>\u001b[0m plt\u001b[39m.\u001b[39mimshow(images_segmented[\u001b[39m0\u001b[39m][\u001b[39m0\u001b[39m], cmap\u001b[39m=\u001b[39m\u001b[39m'\u001b[39m\u001b[39mgray\u001b[39m\u001b[39m'\u001b[39m)\n",
      "\u001b[1;31mNameError\u001b[0m: name 'images_segmented' is not defined"
     ]
    }
   ],
   "source": [
    "# Show image\n",
    "import matplotlib.pyplot as plt\n",
    "plt.imshow(images_segmented[0][0], cmap='gray')"
   ]
  },
  {
   "cell_type": "code",
   "execution_count": 52,
   "metadata": {},
   "outputs": [
    {
     "data": {
      "application/vnd.jupyter.widget-view+json": {
       "model_id": "dffe16a481df4a4dacb6167325aa1c32",
       "version_major": 2,
       "version_minor": 0
      },
      "text/plain": [
       "interactive(children=(IntSlider(value=0, description='index', max=36), Output()), _dom_classes=('widget-intera…"
      ]
     },
     "metadata": {},
     "output_type": "display_data"
    }
   ],
   "source": [
    "# TODO: replicated cell code\n",
    "\n",
    "import ipywidgets as wg\n",
    "import PIL.Image\n",
    "\n",
    "def show_image_by_index_(index: int) -> PIL.Image:\n",
    "    return PIL.Image.fromarray(images_segmented[index])\n",
    "\n",
    "wg.interact(\n",
    "    show_image_by_index_,\n",
    "    index=wg.IntSlider(min=0, max=len(images)-1, step=1));"
   ]
  },
  {
   "cell_type": "code",
   "execution_count": 38,
   "metadata": {},
   "outputs": [],
   "source": [
    "from typing import List, Tuple\n",
    "from scipy.spatial.distance import cdist\n",
    "\n",
    "def get_mean_and_inverse_covariance_matrix(\n",
    "    samples: List[np.ndarray],\n",
    "    ) -> Tuple[np.ndarray, np.ndarray]:\n",
    "    \"\"\"\n",
    "    Function that computes the mean colour and the inverse covariance colour matrix by a list of samples in a specific\n",
    "    colour space and using the given channels.\n",
    "\n",
    "    Parameters\n",
    "    ----------\n",
    "    samples: List[ndarray]\n",
    "        The samples used to compute the mean colour and the inverse covariance colour matrix\n",
    "    colour_space: ColourSpace\n",
    "        The colour space the samples are turned to before computing the mean colour and inverse covariance colour matrix\n",
    "        on them\n",
    "    channels: Tuple[int, ...], optional\n",
    "        The channels of the colour space that are used to compute the mean colour and inverse covariance colour matrix\n",
    "        (default: all 3)\n",
    "\n",
    "    Returns\n",
    "    -------\n",
    "    mean: ndarray\n",
    "        The mean colour obtained by the samples\n",
    "    inverse_covariance: ndarray\n",
    "        The inverse covariance colour matrix obtained by the samples\n",
    "    \"\"\"\n",
    "    # Get the number of channels\n",
    "    channel_num = len(samples[0].shape[-1])\n",
    "\n",
    "    # Set an array of 0s of the shape of the covariance matrix\n",
    "    covariance_tot = np.zeros((channel_num, channel_num), dtype=np.float32)\n",
    "    # Set an array of 0s of the shape of a mean vector of the color of the samples\n",
    "    mean_tot = np.zeros((channel_num,), dtype=np.float32)\n",
    "\n",
    "    for s in samples:\n",
    "        # Turn the sample patch in the selected colour space\n",
    "        s_colour_space = cv.COLOR_BGR2HSV\n",
    "        # Reshape the sample patch\n",
    "        s_colour_space = s_colour_space.reshape(-1, channel_num)\n",
    "        # Obtain the covariance matrix and the mean for the patch\n",
    "        cov, mean = cv.calcCovarMatrix(\n",
    "            s_colour_space,\n",
    "            None,\n",
    "            cv.COVAR_NORMAL + cv.COVAR_ROWS + cv.COVAR_SCALE)\n",
    "        # Add the obtained mean and the covariance to the ones of the previous patches\n",
    "        covariance_tot = np.add(covariance_tot, cov)\n",
    "        mean_tot = np.add(mean_tot, mean)\n",
    "\n",
    "    # Divide the sum of means by the number of samples\n",
    "    mean = mean_tot / len(samples)\n",
    "    # Divide the sum of covariances by the number of samples\n",
    "    covariance = covariance_tot / len(samples)\n",
    "\n",
    "    # Invert covariance with SVD decomposition\n",
    "    inv_cov = cv.invert(covariance, cv.DECOMP_SVD)[1]\n",
    "\n",
    "    return mean, inv_cov\n",
    "\n",
    "\n",
    "def get_mahalanobis_distance_segmented_image(image: np.ndarray, mean: np.ndarray,\n",
    "                                             inverse_covariance_matrix: np.ndarray, threshold: float,\n",
    "                                             channels: Tuple[int, ...] = (0, 1, 2)) -> np.ndarray:\n",
    "    \"\"\"\n",
    "    Function that computes the \"Mahalanobis distance\" of each pixel of an image from a certain colour according to its\n",
    "    mean and its inverse covariance matrix. It then sets at 0 all pixels that have a distance farther or equal to a\n",
    "    certain threshold and at 255 all pixels closer than threshold. It finally returns the obtained mask.\n",
    "\n",
    "    Parameters\n",
    "    ----------\n",
    "    image: ndarray\n",
    "        The image in a certain colour space from which the distance mask according to the \"Mahalanobis distance\" is\n",
    "        computed\n",
    "    mean: ndarray\n",
    "        The mean of the colour from which the \"Mahalanobis distance\" is computed\n",
    "    inverse_covariance_matrix: ndarray\n",
    "        The inverse covariance matrix of the colour from which the \"Mahalanobis distance\" is computed\n",
    "    threshold: float\n",
    "        Threshold used to set to 0 all pixels that have a \"Mahalanobis distance\" farther or equal to it and at 255 all\n",
    "        pixels with a distance lower than its value.\n",
    "    channels: Tuple[int, ...], optional\n",
    "        The channels of the colour space that are used to compute the \"Mahalanobis distance\" of the image (default: all\n",
    "        3)\n",
    "\n",
    "    Returns\n",
    "    -------\n",
    "    mask: ndarray\n",
    "        Mask of the pixels of the image with \"Mahalanobis distance\" lower than threshold\n",
    "    \"\"\"\n",
    "    # Get the number of channels of the image\n",
    "    channel_num = len(channels)\n",
    "    # Turn the mage in the selected colour space and get the requested channels\n",
    "    image = image[:, :, channels]\n",
    "\n",
    "    # Flatten the image and change the type to `float64`\n",
    "    img_flattened = image.reshape(-1, channel_num)\n",
    "    img_flattened = img_flattened.astype(np.float64)\n",
    "\n",
    "    # Get the mahalanobis distance of each pixel\n",
    "    img_distances = cdist(img_flattened, mean, metric='mahalanobis', VI=inverse_covariance_matrix)\n",
    "\n",
    "    # Reshape the flattened distance image\n",
    "    img_distances = img_distances.reshape(image.shape[0], image.shape[1])\n",
    "\n",
    "    # Obtain a distance mask where pixels more distant than `threshold` are masked\n",
    "    mask = np.copy(img_distances).astype(np.uint8)\n",
    "    mask[img_distances >= threshold] = 0\n",
    "    mask[img_distances < threshold] = 255\n",
    "    return mask"
   ]
  },
  {
   "cell_type": "code",
   "execution_count": 39,
   "metadata": {},
   "outputs": [],
   "source": [
    "# images_segmented = [get_k_means_segmented_image(images[i]) for i in range(len(images))]"
   ]
  },
  {
   "cell_type": "code",
   "execution_count": 41,
   "metadata": {},
   "outputs": [
    {
     "data": {
      "application/vnd.jupyter.widget-view+json": {
       "model_id": "600b84a0c07e4f9b987080b3eef1df7c",
       "version_major": 2,
       "version_minor": 0
      },
      "text/plain": [
       "interactive(children=(IntSlider(value=0, description='index', max=36), Output()), _dom_classes=('widget-intera…"
      ]
     },
     "metadata": {},
     "output_type": "display_data"
    }
   ],
   "source": [
    "# TODO: replicated cell code\n",
    "\n",
    "import ipywidgets as wg\n",
    "import PIL.Image\n",
    "\n",
    "def show_image_by_index_(index: int) -> PIL.Image:\n",
    "    return PIL.Image.fromarray(images_segmented[index])\n",
    "\n",
    "wg.interact(\n",
    "    show_image_by_index_,\n",
    "    index=wg.IntSlider(min=0, max=len(images)-1, step=1));"
   ]
  },
  {
   "cell_type": "code",
   "execution_count": null,
   "metadata": {},
   "outputs": [],
   "source": []
  }
 ],
 "metadata": {
  "kernelspec": {
   "display_name": "Python 3",
   "language": "python",
   "name": "python3"
  },
  "language_info": {
   "codemirror_mode": {
    "name": "ipython",
    "version": 3
   },
   "file_extension": ".py",
   "mimetype": "text/x-python",
   "name": "python",
   "nbconvert_exporter": "python",
   "pygments_lexer": "ipython3",
   "version": "3.10.0"
  },
  "orig_nbformat": 4
 },
 "nbformat": 4,
 "nbformat_minor": 2
}
